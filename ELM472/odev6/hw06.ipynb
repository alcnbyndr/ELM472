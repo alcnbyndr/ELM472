{
 "cells": [
  {
   "cell_type": "code",
   "execution_count": 1,
   "metadata": {},
   "outputs": [],
   "source": [
    "from sklearn.datasets import load_digits\n",
    "from sklearn.model_selection import train_test_split\n",
    "import pandas as pd\n",
    "import torch as T\n",
    "import numpy as np"
   ]
  },
  {
   "cell_type": "code",
   "execution_count": 2,
   "metadata": {},
   "outputs": [],
   "source": [
    "data = load_digits()\n",
    "x = data['data']\n",
    "y = data['target']"
   ]
  },
  {
   "cell_type": "code",
   "execution_count": 3,
   "metadata": {},
   "outputs": [],
   "source": [
    "x_train, x_test, y_train, y_test = train_test_split(x, y, test_size=0.33, random_state=42)"
   ]
  },
  {
   "cell_type": "code",
   "execution_count": 4,
   "metadata": {},
   "outputs": [],
   "source": [
    "# Data Set\n",
    "from torch.utils.data import Dataset\n",
    "from torch.utils.data import DataLoader\n",
    "import torch.nn as nn\n",
    "import torch as T\n",
    "import torch.optim as optim\n",
    "import torch.nn.functional as F\n",
    "\n",
    "class DS(Dataset):\n",
    "  def __init__(self, x, y) -> None:\n",
    "    super().__init__()\n",
    "    \n",
    "    self.x = x\n",
    "    self.y = y\n",
    "\n",
    "  def __len__(self):\n",
    "    return len(self.y)\n",
    "\n",
    "  def __getitem__(self, idx):\n",
    "    return self.x[idx,:], self.y[idx]\n"
   ]
  },
  {
   "cell_type": "code",
   "execution_count": 5,
   "metadata": {},
   "outputs": [],
   "source": [
    "class ANNModel(nn.Module):\n",
    "  def __init__(self, input_dims=7, out_dims=10, lr=1e-4) -> None:\n",
    "    super().__init__()\n",
    "\n",
    "    self.input_dims = input_dims\n",
    "    self.output_dims = out_dims\n",
    "    n_nodes = 1024\n",
    "\n",
    "    self.fc1 = nn.Linear(self.input_dims, n_nodes)\n",
    "    self.fc2 = nn.Linear(n_nodes, n_nodes)\n",
    "    self.fc3 = nn.Linear(n_nodes, n_nodes)\n",
    "    self.fout = nn.Linear(n_nodes, self.output_dims)\n",
    "\n",
    "    self.dropout = nn.Dropout(0.0)\n",
    "\n",
    "    self.optimizer = optim.Adam(self.parameters(), lr=lr)\n",
    "    self.loss = nn.CrossEntropyLoss()\n",
    "    self.device = T.device('cuda:0' if T.cuda.is_available() else 'cpu')\n",
    "    self.to(self.device)\n",
    "\n",
    "  def forward(self, x):\n",
    "    x = x.to(self.device)\n",
    "    x = x.to(T.float32)\n",
    "\n",
    "    out = self.dropout(F.leaky_relu(self.fc1(x)))\n",
    "    out = self.dropout(F.leaky_relu(self.fc2(out)))\n",
    "    out = F.leaky_relu(self.fc3(out))\n",
    "    out = self.fout(out)\n",
    "    out = F.softmax(out, dim=1)\n",
    "\n",
    "    return out\n",
    "\n",
    "  def learn(self, x, y):\n",
    "    x = x.to(self.device)\n",
    "    x = x\n",
    "    y = y.to(self.device)\n",
    "    y = y.to(T.int64)\n",
    "\n",
    "    self.optimizer.zero_grad()\n",
    "\n",
    "    y_pred = self.forward(x)\n",
    "    # print('y_pred ', y_pred)\n",
    "    loss = self.loss(y_pred, y)\n",
    "    loss.backward()\n",
    "    self.optimizer.step()\n",
    "\n",
    "    r_pred = T.argmax(y_pred, dim=1)\n",
    "    err = T.sum(r_pred != y)\n",
    "    \n",
    "    # return loss.item()\n",
    "    return err.item()\n"
   ]
  },
  {
   "cell_type": "code",
   "execution_count": 6,
   "metadata": {},
   "outputs": [],
   "source": [
    "training_set = DS(x_train, y_train)\n",
    "training_dataloader = DataLoader(training_set, batch_size=128, shuffle=True)\n",
    "\n",
    "test_set = DS(x_test, y_test)\n",
    "test_dataloader = DataLoader(test_set, batch_size=128, shuffle=False)\n"
   ]
  },
  {
   "cell_type": "code",
   "execution_count": 7,
   "metadata": {},
   "outputs": [],
   "source": [
    "model = ANNModel(input_dims=x.shape[1], out_dims=len(np.unique(y_train)), lr=1e-3)\n",
    "\n",
    "losses = []\n",
    "n_episodes = 100\n",
    "for n_episode in range(n_episodes):\n",
    "  loss = 0\n",
    "  for x, y in training_dataloader:\n",
    "    loss += model.learn(x, y)\n",
    "  losses.append(loss)\n",
    "  "
   ]
  },
  {
   "cell_type": "code",
   "execution_count": 8,
   "metadata": {},
   "outputs": [
    {
     "data": {
      "text/plain": [
       "[<matplotlib.lines.Line2D at 0x1ece804f4c8>]"
      ]
     },
     "execution_count": 8,
     "metadata": {},
     "output_type": "execute_result"
    },
    {
     "data": {
      "image/png": "[encoded data removed]",
      "text/plain": [
       "<Figure size 640x480 with 1 Axes>"
      ]
     },
     "metadata": {},
     "output_type": "display_data"
    }
   ],
   "source": [
    "import matplotlib.pyplot as plt\n",
    "plt.plot(losses)"
   ]
  },
  {
   "cell_type": "code",
   "execution_count": null,
   "metadata": {},
   "outputs": [],
   "source": []
  }
 ],
 "metadata": {
  "kernelspec": {
   "display_name": "Python 3.7.9 ('recommender_systems')",
   "language": "python",
   "name": "python3"
  },
  "language_info": {
   "codemirror_mode": {
    "name": "ipython",
    "version": 3
   },
   "file_extension": ".py",
   "mimetype": "text/x-python",
   "name": "python",
   "nbconvert_exporter": "python",
   "pygments_lexer": "ipython3",
   "version": "3.7.9"
  },
  "orig_nbformat": 4,
  "vscode": {
   "interpreter": {
    "hash": "2521cb7dc15b2a3509cb6a43ecca3365224f8ac96777fed8e8b49a4071732148"
   }
  }
 },
 "nbformat": 4,
 "nbformat_minor": 2
}
